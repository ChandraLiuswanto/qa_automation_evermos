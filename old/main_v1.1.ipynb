{
 "cells": [
  {
   "cell_type": "code",
   "execution_count": null,
   "metadata": {},
   "outputs": [],
   "source": [
    "from selenium import webdriver\n",
    "from selenium.webdriver.common.by import By\n",
    "from selenium.webdriver.common.keys import Keys\n",
    "from selenium.webdriver.support.ui import WebDriverWait\n",
    "from selenium.webdriver.support import expected_conditions as EC\n",
    "from selenium.webdriver.support.ui import Select\n",
    "from selenium.common.exceptions import ElementClickInterceptedException\n",
    "import sys\n",
    "from time import sleep\n",
    "from time import time\n",
    "from random import randint\n",
    "import pandas as pd\n",
    "\n",
    "def wait_element(val,timeout=20):\n",
    "    WebDriverWait(driver, timeout).until(EC.element_to_be_clickable((By.XPATH, val)))\n",
    "    \n",
    "def run_click(val):\n",
    "    wait_element(val)\n",
    "    driver.find_element(by=By.XPATH, value=val).click()\n",
    "    sleep(1)\n",
    "\n",
    "def input_text(val,text):\n",
    "    wait_element(val)\n",
    "    driver.find_element(by=By.XPATH, value=val).send_keys(text)\n",
    "    sleep(0.5)\n",
    "            \n",
    "def spam_end(val):\n",
    "    for _ in range(val):\n",
    "        driver.find_element(by=By.TAG_NAME, value='html').send_keys(Keys.END)\n",
    "        sleep(0.5)\n",
    "\n",
    "def read_val(val):\n",
    "    sleep(0.5)\n",
    "    return driver.find_element(by=By.XPATH, value=val).text\n",
    "    \n",
    "    \n",
    "data_x = []\n",
    "home_page = 'https://berikhtiar.com/huhuhuh.ce6'\n",
    "\n",
    "for i in range(1,9):\n",
    "    t0 = time()\n",
    "    driver = webdriver.Edge()\n",
    "    driver.get(home_page)\n",
    "    driver.implicitly_wait(30)\n",
    "    while True:\n",
    "        try:\n",
    "            run_click(f'//*[@id=\"__layout\"]/div/div[5]/div[{i}]/div/a') #click object\n",
    "            break\n",
    "        except ElementClickInterceptedException:\n",
    "            spam_end(1)\n",
    "    ## On object page\n",
    "    price_val = '//*[@id=\"__layout\"]/div/div[4]/div[6]/div/div[1]/div[2]/div/div[2]'\n",
    "    driver.implicitly_wait(5)\n",
    "    try:\n",
    "        WebDriverWait(driver, 5).until(EC.element_to_be_clickable((By.XPATH, price_val)))\n",
    "    except:\n",
    "        price_val = '//*[@id=\"__layout\"]/div/div[4]/div[6]/div/div[1]/div[2]/div/div'\n",
    "    driver.implicitly_wait(30)\n",
    "    price = int(read_val(price_val).replace('.','').replace('Rp',''))\n",
    "    stock = int(read_val('//*[@id=\"__layout\"]/div/div[4]/div[6]/div/div[2]/div[2]'))\n",
    "    link = driver.current_url\n",
    "    run_click('//*[@id=\"__layout\"]/div/div[6]/div/button') # click to buy\n",
    "    run_click('//*[@id=\"__layout\"]/div/div[7]/div/div[3]/button[1]') # click to cart\n",
    "\n",
    "    # To cart page\n",
    "    addr = ['TESTING','Ibu ABC DEF ','08765765765','Jalanan rumah orang nomor 123 RT 99 LV 999']\n",
    "    stock_selected = abs(int(stock*0.5+1))\n",
    "    if stock_selected > 10:\n",
    "        stock_selected = 10\n",
    "    wait_element('//*[@id=\"__layout\"]/div/div[2]/div[2]/div[2]/div/div/div[1]/select')\n",
    "    Select(driver.find_element(by=By.XPATH, value='//*[@id=\"__layout\"]/div/div[2]/div[2]/div[2]/div/div/div[1]/select')).select_by_index(stock_selected-1)\n",
    "    sleep(2)\n",
    "    # Di address page\n",
    "    run_click('//*[@id=\"__layout\"]/div/div[2]/button[1]') # click alamat\n",
    "    sleep(1)\n",
    "    driver.find_element(by=By.XPATH, value='//*[@id=\"__layout\"]/div/div[3]/div/div/div[2]/form/div/label/a').click()\n",
    "    input_text('//*[@id=\"__layout\"]/div/div[3]/div/div/div[2]/form/div/div/div/div[2]/form/input','jak')\n",
    "    random_number = randint(1,5)\n",
    "    run_click(f'//*[@id=\"__layout\"]/div/div[3]/div/div/div[2]/form/div/div/div/div[2]/div/a[{random_number}]/span')\n",
    "    for j in range(1,5):\n",
    "        input_text(f'//*[@id=\"__layout\"]/div/div[3]/div/div/div[2]/form/label[{j}]/span[2]/input',addr[j-1]) \n",
    "\n",
    "    run_click('//*[@id=\"__layout\"]/div/div[3]/div/div/div[3]/div/button')\n",
    "    alert_obj = driver.switch_to.alert\n",
    "    alert_obj.accept()\n",
    "    wait_element('//*[@id=\"__layout\"]/div/div[2]/button')\n",
    "    ongkir_price = int((read_val('//*[@id=\"__layout\"]/div/div[2]/div[3]/div[5]/div').replace('.','')).replace('Rp',''))\n",
    "    spam_end(1)\n",
    "    run_click('//*[@id=\"__layout\"]/div/div[2]/button')\n",
    "    run_click('//*[@id=\"__layout\"]/div/div[6]/div/div[3]/button[1]')\n",
    "    final_price = int((read_val('//*[@id=\"application\"]/div[4]/div/div/div/div[1]/div[1]/div[2]/span[2]').replace(',','')).replace('Rp',''))\n",
    "    val_correct =final_price==stock_selected*price+ongkir_price\n",
    "    data_x.append([int(time()-t0),link,stock,price,stock_selected,ongkir_price,final_price,val_correct])\n",
    "    driver.close()\n",
    "df = pd.DataFrame(data_x)\n",
    "df.columns=('ts','link','Stock Max', 'Price', 'Stock Selected',\n",
    "             'Delivery Price','Total Price', 'Data Correct')\n",
    "print(df)"
   ]
  },
  {
   "cell_type": "code",
   "execution_count": 63,
   "metadata": {},
   "outputs": [
    {
     "data": {
      "text/plain": [
       "160000"
      ]
     },
     "execution_count": 63,
     "metadata": {},
     "output_type": "execute_result"
    }
   ],
   "source": [
    "price"
   ]
  }
 ],
 "metadata": {
  "interpreter": {
   "hash": "ed8d44d7cc996a12710889294de7e71688d7b0f8ff09561bdf2cba427af65612"
  },
  "kernelspec": {
   "display_name": "Python 3.8.10 64-bit",
   "language": "python",
   "name": "python3"
  },
  "language_info": {
   "codemirror_mode": {
    "name": "ipython",
    "version": 3
   },
   "file_extension": ".py",
   "mimetype": "text/x-python",
   "name": "python",
   "nbconvert_exporter": "python",
   "pygments_lexer": "ipython3",
   "version": "3.8.10"
  },
  "orig_nbformat": 4
 },
 "nbformat": 4,
 "nbformat_minor": 2
}
