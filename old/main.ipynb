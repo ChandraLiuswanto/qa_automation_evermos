{
 "cells": [
  {
   "cell_type": "code",
   "execution_count": 32,
   "metadata": {},
   "outputs": [
    {
     "name": "stdout",
     "output_type": "stream",
     "text": [
      "https://berikhtiar.com/huhuhuh.ce6\n"
     ]
    }
   ],
   "source": [
    "from selenium import webdriver\n",
    "from selenium.webdriver.common.by import By\n",
    "from selenium.webdriver.common.keys import Keys\n",
    "from selenium.webdriver.support.ui import WebDriverWait\n",
    "from selenium.webdriver.support import expected_conditions as EC\n",
    "from selenium.webdriver.support.ui import Select\n",
    "import os, sys\n",
    "from time import sleep\n",
    "from random import randint\n",
    "import pickle\n",
    "\n",
    "def run_click(val):\n",
    "    WebDriverWait(driver, 20).until(EC.element_to_be_clickable((By.XPATH, val))).click()\n",
    "\n",
    "def input_text(val,text):\n",
    "    WebDriverWait(driver, 20).until(EC.element_located_to_be_selected((By.XPATH, val)))\n",
    "    driver.find_element(by=By.XPATH, value=f'//*[@id=\"__layout\"]/div/div[3]/div/div/div[2]/form/label[{i}]/span[2]/input').send_keys(add[i-1])\n",
    "            \n",
    "def spam_end(val):\n",
    "    for _ in range(val):\n",
    "        driver.find_element(by=By.TAG_NAME, value='html').send_keys(Keys.END)\n",
    "        sleep(1)\n",
    "        \n",
    "home_page = 'https://berikhtiar.com/huhuhuh.ce6'\n",
    "driver = webdriver.Edge()\n",
    "driver.get(home_page)\n",
    "driver.find_element(by=By.TAG_NAME, value='html').send_keys(Keys.END)\n",
    "print(driver.current_url)\n",
    "spam_end(5)"
   ]
  },
  {
   "cell_type": "code",
   "execution_count": 33,
   "metadata": {},
   "outputs": [],
   "source": [
    "i = 1\n",
    "run_click(f'//*[@id=\"__layout\"]/div/div[5]/div[{i}]/div/a') #click object\n",
    "sleep(2)\n",
    "pr = int(driver.find_element(by=By.XPATH, value='//*[@id=\"__layout\"]/div/div[4]/div[6]/div/div[1]/div[2]/div/div[2]').text.replace('.','').replace('Rp',''))\n",
    "stock = int(driver.find_element(by=By.XPATH, value='//*[@id=\"__layout\"]/div/div[4]/div[6]/div/div[2]/div[2]').text)\n",
    "run_click('//*[@id=\"__layout\"]/div/div[6]/div/button') # click to buy\n",
    "sleep(3)"
   ]
  },
  {
   "cell_type": "code",
   "execution_count": 34,
   "metadata": {},
   "outputs": [
    {
     "ename": "ElementClickInterceptedException",
     "evalue": "Message: element click intercepted: Element <button class=\"btn btn--block\" style=\"margin:12px 0 16px;\" data-v-a35d0e5e=\"\">...</button> is not clickable at point (683, 112). Other element would receive the click: <div class=\"appLoading\">...</div>\n  (Session info: MicrosoftEdge=100.0.1185.39)\nStacktrace:\nBacktrace:\n\tMicrosoft::Applications::Events::EventProperties::unpack [0x00007FF6A54792E2+24834]\n\tMicrosoft::Applications::Events::time_ticks_t::time_ticks_t [0x00007FF6A53B6742+523426]\n\tOrdinal0 [0x00007FF6A4EB13B5+660405]\n\tOrdinal0 [0x00007FF6A4EF4C90+937104]\n\tOrdinal0 [0x00007FF6A4EF2327+926503]\n\tOrdinal0 [0x00007FF6A4EEF7D3+915411]\n\tOrdinal0 [0x00007FF6A4EEE3FE+910334]\n\tOrdinal0 [0x00007FF6A4EE0E51+855633]\n\tOrdinal0 [0x00007FF6A4F07D9A+1015194]\n\tOrdinal0 [0x00007FF6A4EE05E4+853476]\n\tOrdinal0 [0x00007FF6A4F080B0+1015984]\n\tOrdinal0 [0x00007FF6A4F1C467+1098855]\n\tOrdinal0 [0x00007FF6A4F07BB3+1014707]\n\tOrdinal0 [0x00007FF6A4EDEAE0+846560]\n\tOrdinal0 [0x00007FF6A4EDFED8+851672]\n\tMicrosoft::Applications::Events::EventProperty::to_string [0x00007FF6A507A6D8+846488]\n\tMicrosoft::Applications::Events::EventProperty::EventProperty [0x00007FF6A516AC81+36529]\n\tMicrosoft::Applications::Events::EventProperty::EventProperty [0x00007FF6A516DFA2+49618]\n\tMicrosoft::Applications::Events::EventProperty::to_string [0x00007FF6A4FB3566+31014]\n\tMicrosoft::Applications::Events::time_ticks_t::time_ticks_t [0x00007FF6A53BD6C1+551969]\n\tMicrosoft::Applications::Events::time_ticks_t::time_ticks_t [0x00007FF6A53C21D4+571188]\n\tMicrosoft::Applications::Events::time_ticks_t::time_ticks_t [0x00007FF6A53C232D+571533]\n\tMicrosoft::Applications::Events::time_ticks_t::time_ticks_t [0x00007FF6A53CB45E+608702]\n\tBaseThreadInitThunk [0x00007FFDEDCF7034+20]\n\tRtlUserThreadStart [0x00007FFDEE4A2651+33]\n",
     "output_type": "error",
     "traceback": [
      "\u001b[1;31m---------------------------------------------------------------------------\u001b[0m",
      "\u001b[1;31mElementClickInterceptedException\u001b[0m          Traceback (most recent call last)",
      "\u001b[1;32m~\\AppData\\Local\\Temp/ipykernel_11112/3642069084.py\u001b[0m in \u001b[0;36m<module>\u001b[1;34m\u001b[0m\n\u001b[0;32m      5\u001b[0m     \u001b[0mstock_selected\u001b[0m \u001b[1;33m=\u001b[0m \u001b[1;36m10\u001b[0m\u001b[1;33m\u001b[0m\u001b[1;33m\u001b[0m\u001b[0m\n\u001b[0;32m      6\u001b[0m \u001b[0mSelect\u001b[0m\u001b[1;33m(\u001b[0m\u001b[0mdriver\u001b[0m\u001b[1;33m.\u001b[0m\u001b[0mfind_element\u001b[0m\u001b[1;33m(\u001b[0m\u001b[0mby\u001b[0m\u001b[1;33m=\u001b[0m\u001b[0mBy\u001b[0m\u001b[1;33m.\u001b[0m\u001b[0mXPATH\u001b[0m\u001b[1;33m,\u001b[0m \u001b[0mvalue\u001b[0m\u001b[1;33m=\u001b[0m\u001b[1;34m'//*[@id=\"__layout\"]/div/div[2]/div[2]/div[2]/div/div/div[1]/select'\u001b[0m\u001b[1;33m)\u001b[0m\u001b[1;33m)\u001b[0m\u001b[1;33m.\u001b[0m\u001b[0mselect_by_index\u001b[0m\u001b[1;33m(\u001b[0m\u001b[0mstock_selected\u001b[0m\u001b[1;33m-\u001b[0m\u001b[1;36m1\u001b[0m\u001b[1;33m)\u001b[0m\u001b[1;33m\u001b[0m\u001b[1;33m\u001b[0m\u001b[0m\n\u001b[1;32m----> 7\u001b[1;33m \u001b[0mrun_click\u001b[0m\u001b[1;33m(\u001b[0m\u001b[1;34m'//*[@id=\"__layout\"]/div/div[2]/button[1]'\u001b[0m\u001b[1;33m)\u001b[0m \u001b[1;31m# click alamat\u001b[0m\u001b[1;33m\u001b[0m\u001b[1;33m\u001b[0m\u001b[0m\n\u001b[0m\u001b[0;32m      8\u001b[0m \u001b[0msleep\u001b[0m\u001b[1;33m(\u001b[0m\u001b[1;36m2\u001b[0m\u001b[1;33m)\u001b[0m\u001b[1;33m\u001b[0m\u001b[1;33m\u001b[0m\u001b[0m\n\u001b[0;32m      9\u001b[0m \u001b[1;32mfor\u001b[0m \u001b[0mi\u001b[0m \u001b[1;32min\u001b[0m \u001b[0mrange\u001b[0m\u001b[1;33m(\u001b[0m\u001b[1;36m1\u001b[0m\u001b[1;33m,\u001b[0m\u001b[1;36m5\u001b[0m\u001b[1;33m)\u001b[0m\u001b[1;33m:\u001b[0m\u001b[1;33m\u001b[0m\u001b[1;33m\u001b[0m\u001b[0m\n",
      "\u001b[1;32m~\\AppData\\Local\\Temp/ipykernel_11112/573181073.py\u001b[0m in \u001b[0;36mrun_click\u001b[1;34m(val)\u001b[0m\n\u001b[0;32m     11\u001b[0m \u001b[1;33m\u001b[0m\u001b[0m\n\u001b[0;32m     12\u001b[0m \u001b[1;32mdef\u001b[0m \u001b[0mrun_click\u001b[0m\u001b[1;33m(\u001b[0m\u001b[0mval\u001b[0m\u001b[1;33m)\u001b[0m\u001b[1;33m:\u001b[0m\u001b[1;33m\u001b[0m\u001b[1;33m\u001b[0m\u001b[0m\n\u001b[1;32m---> 13\u001b[1;33m     \u001b[0mWebDriverWait\u001b[0m\u001b[1;33m(\u001b[0m\u001b[0mdriver\u001b[0m\u001b[1;33m,\u001b[0m \u001b[1;36m20\u001b[0m\u001b[1;33m)\u001b[0m\u001b[1;33m.\u001b[0m\u001b[0muntil\u001b[0m\u001b[1;33m(\u001b[0m\u001b[0mEC\u001b[0m\u001b[1;33m.\u001b[0m\u001b[0melement_to_be_clickable\u001b[0m\u001b[1;33m(\u001b[0m\u001b[1;33m(\u001b[0m\u001b[0mBy\u001b[0m\u001b[1;33m.\u001b[0m\u001b[0mXPATH\u001b[0m\u001b[1;33m,\u001b[0m \u001b[0mval\u001b[0m\u001b[1;33m)\u001b[0m\u001b[1;33m)\u001b[0m\u001b[1;33m)\u001b[0m\u001b[1;33m.\u001b[0m\u001b[0mclick\u001b[0m\u001b[1;33m(\u001b[0m\u001b[1;33m)\u001b[0m\u001b[1;33m\u001b[0m\u001b[1;33m\u001b[0m\u001b[0m\n\u001b[0m\u001b[0;32m     14\u001b[0m \u001b[1;33m\u001b[0m\u001b[0m\n\u001b[0;32m     15\u001b[0m \u001b[1;32mdef\u001b[0m \u001b[0mspam_end\u001b[0m\u001b[1;33m(\u001b[0m\u001b[0mval\u001b[0m\u001b[1;33m)\u001b[0m\u001b[1;33m:\u001b[0m\u001b[1;33m\u001b[0m\u001b[1;33m\u001b[0m\u001b[0m\n",
      "\u001b[1;32m~\\AppData\\Local\\Programs\\Python\\Python38\\lib\\site-packages\\selenium\\webdriver\\remote\\webelement.py\u001b[0m in \u001b[0;36mclick\u001b[1;34m(self)\u001b[0m\n\u001b[0;32m     79\u001b[0m     \u001b[1;32mdef\u001b[0m \u001b[0mclick\u001b[0m\u001b[1;33m(\u001b[0m\u001b[0mself\u001b[0m\u001b[1;33m)\u001b[0m \u001b[1;33m->\u001b[0m \u001b[1;32mNone\u001b[0m\u001b[1;33m:\u001b[0m\u001b[1;33m\u001b[0m\u001b[1;33m\u001b[0m\u001b[0m\n\u001b[0;32m     80\u001b[0m         \u001b[1;34m\"\"\"Clicks the element.\"\"\"\u001b[0m\u001b[1;33m\u001b[0m\u001b[1;33m\u001b[0m\u001b[0m\n\u001b[1;32m---> 81\u001b[1;33m         \u001b[0mself\u001b[0m\u001b[1;33m.\u001b[0m\u001b[0m_execute\u001b[0m\u001b[1;33m(\u001b[0m\u001b[0mCommand\u001b[0m\u001b[1;33m.\u001b[0m\u001b[0mCLICK_ELEMENT\u001b[0m\u001b[1;33m)\u001b[0m\u001b[1;33m\u001b[0m\u001b[1;33m\u001b[0m\u001b[0m\n\u001b[0m\u001b[0;32m     82\u001b[0m \u001b[1;33m\u001b[0m\u001b[0m\n\u001b[0;32m     83\u001b[0m     \u001b[1;32mdef\u001b[0m \u001b[0msubmit\u001b[0m\u001b[1;33m(\u001b[0m\u001b[0mself\u001b[0m\u001b[1;33m)\u001b[0m\u001b[1;33m:\u001b[0m\u001b[1;33m\u001b[0m\u001b[1;33m\u001b[0m\u001b[0m\n",
      "\u001b[1;32m~\\AppData\\Local\\Programs\\Python\\Python38\\lib\\site-packages\\selenium\\webdriver\\remote\\webelement.py\u001b[0m in \u001b[0;36m_execute\u001b[1;34m(self, command, params)\u001b[0m\n\u001b[0;32m    708\u001b[0m             \u001b[0mparams\u001b[0m \u001b[1;33m=\u001b[0m \u001b[1;33m{\u001b[0m\u001b[1;33m}\u001b[0m\u001b[1;33m\u001b[0m\u001b[1;33m\u001b[0m\u001b[0m\n\u001b[0;32m    709\u001b[0m         \u001b[0mparams\u001b[0m\u001b[1;33m[\u001b[0m\u001b[1;34m'id'\u001b[0m\u001b[1;33m]\u001b[0m \u001b[1;33m=\u001b[0m \u001b[0mself\u001b[0m\u001b[1;33m.\u001b[0m\u001b[0m_id\u001b[0m\u001b[1;33m\u001b[0m\u001b[1;33m\u001b[0m\u001b[0m\n\u001b[1;32m--> 710\u001b[1;33m         \u001b[1;32mreturn\u001b[0m \u001b[0mself\u001b[0m\u001b[1;33m.\u001b[0m\u001b[0m_parent\u001b[0m\u001b[1;33m.\u001b[0m\u001b[0mexecute\u001b[0m\u001b[1;33m(\u001b[0m\u001b[0mcommand\u001b[0m\u001b[1;33m,\u001b[0m \u001b[0mparams\u001b[0m\u001b[1;33m)\u001b[0m\u001b[1;33m\u001b[0m\u001b[1;33m\u001b[0m\u001b[0m\n\u001b[0m\u001b[0;32m    711\u001b[0m \u001b[1;33m\u001b[0m\u001b[0m\n\u001b[0;32m    712\u001b[0m     \u001b[1;32mdef\u001b[0m \u001b[0mfind_element\u001b[0m\u001b[1;33m(\u001b[0m\u001b[0mself\u001b[0m\u001b[1;33m,\u001b[0m \u001b[0mby\u001b[0m\u001b[1;33m=\u001b[0m\u001b[0mBy\u001b[0m\u001b[1;33m.\u001b[0m\u001b[0mID\u001b[0m\u001b[1;33m,\u001b[0m \u001b[0mvalue\u001b[0m\u001b[1;33m=\u001b[0m\u001b[1;32mNone\u001b[0m\u001b[1;33m)\u001b[0m\u001b[1;33m:\u001b[0m\u001b[1;33m\u001b[0m\u001b[1;33m\u001b[0m\u001b[0m\n",
      "\u001b[1;32m~\\AppData\\Local\\Programs\\Python\\Python38\\lib\\site-packages\\selenium\\webdriver\\remote\\webdriver.py\u001b[0m in \u001b[0;36mexecute\u001b[1;34m(self, driver_command, params)\u001b[0m\n\u001b[0;32m    423\u001b[0m         \u001b[0mresponse\u001b[0m \u001b[1;33m=\u001b[0m \u001b[0mself\u001b[0m\u001b[1;33m.\u001b[0m\u001b[0mcommand_executor\u001b[0m\u001b[1;33m.\u001b[0m\u001b[0mexecute\u001b[0m\u001b[1;33m(\u001b[0m\u001b[0mdriver_command\u001b[0m\u001b[1;33m,\u001b[0m \u001b[0mparams\u001b[0m\u001b[1;33m)\u001b[0m\u001b[1;33m\u001b[0m\u001b[1;33m\u001b[0m\u001b[0m\n\u001b[0;32m    424\u001b[0m         \u001b[1;32mif\u001b[0m \u001b[0mresponse\u001b[0m\u001b[1;33m:\u001b[0m\u001b[1;33m\u001b[0m\u001b[1;33m\u001b[0m\u001b[0m\n\u001b[1;32m--> 425\u001b[1;33m             \u001b[0mself\u001b[0m\u001b[1;33m.\u001b[0m\u001b[0merror_handler\u001b[0m\u001b[1;33m.\u001b[0m\u001b[0mcheck_response\u001b[0m\u001b[1;33m(\u001b[0m\u001b[0mresponse\u001b[0m\u001b[1;33m)\u001b[0m\u001b[1;33m\u001b[0m\u001b[1;33m\u001b[0m\u001b[0m\n\u001b[0m\u001b[0;32m    426\u001b[0m             response['value'] = self._unwrap_value(\n\u001b[0;32m    427\u001b[0m                 response.get('value', None))\n",
      "\u001b[1;32m~\\AppData\\Local\\Programs\\Python\\Python38\\lib\\site-packages\\selenium\\webdriver\\remote\\errorhandler.py\u001b[0m in \u001b[0;36mcheck_response\u001b[1;34m(self, response)\u001b[0m\n\u001b[0;32m    245\u001b[0m                 \u001b[0malert_text\u001b[0m \u001b[1;33m=\u001b[0m \u001b[0mvalue\u001b[0m\u001b[1;33m[\u001b[0m\u001b[1;34m'alert'\u001b[0m\u001b[1;33m]\u001b[0m\u001b[1;33m.\u001b[0m\u001b[0mget\u001b[0m\u001b[1;33m(\u001b[0m\u001b[1;34m'text'\u001b[0m\u001b[1;33m)\u001b[0m\u001b[1;33m\u001b[0m\u001b[1;33m\u001b[0m\u001b[0m\n\u001b[0;32m    246\u001b[0m             \u001b[1;32mraise\u001b[0m \u001b[0mexception_class\u001b[0m\u001b[1;33m(\u001b[0m\u001b[0mmessage\u001b[0m\u001b[1;33m,\u001b[0m \u001b[0mscreen\u001b[0m\u001b[1;33m,\u001b[0m \u001b[0mstacktrace\u001b[0m\u001b[1;33m,\u001b[0m \u001b[0malert_text\u001b[0m\u001b[1;33m)\u001b[0m  \u001b[1;31m# type: ignore[call-arg]  # mypy is not smart enough here\u001b[0m\u001b[1;33m\u001b[0m\u001b[1;33m\u001b[0m\u001b[0m\n\u001b[1;32m--> 247\u001b[1;33m         \u001b[1;32mraise\u001b[0m \u001b[0mexception_class\u001b[0m\u001b[1;33m(\u001b[0m\u001b[0mmessage\u001b[0m\u001b[1;33m,\u001b[0m \u001b[0mscreen\u001b[0m\u001b[1;33m,\u001b[0m \u001b[0mstacktrace\u001b[0m\u001b[1;33m)\u001b[0m\u001b[1;33m\u001b[0m\u001b[1;33m\u001b[0m\u001b[0m\n\u001b[0m\u001b[0;32m    248\u001b[0m \u001b[1;33m\u001b[0m\u001b[0m\n\u001b[0;32m    249\u001b[0m     \u001b[1;32mdef\u001b[0m \u001b[0m_value_or_default\u001b[0m\u001b[1;33m(\u001b[0m\u001b[0mself\u001b[0m\u001b[1;33m,\u001b[0m \u001b[0mobj\u001b[0m\u001b[1;33m:\u001b[0m \u001b[0mMapping\u001b[0m\u001b[1;33m[\u001b[0m\u001b[0m_KT\u001b[0m\u001b[1;33m,\u001b[0m \u001b[0m_VT\u001b[0m\u001b[1;33m]\u001b[0m\u001b[1;33m,\u001b[0m \u001b[0mkey\u001b[0m\u001b[1;33m:\u001b[0m \u001b[0m_KT\u001b[0m\u001b[1;33m,\u001b[0m \u001b[0mdefault\u001b[0m\u001b[1;33m:\u001b[0m \u001b[0m_VT\u001b[0m\u001b[1;33m)\u001b[0m \u001b[1;33m->\u001b[0m \u001b[0m_VT\u001b[0m\u001b[1;33m:\u001b[0m\u001b[1;33m\u001b[0m\u001b[1;33m\u001b[0m\u001b[0m\n",
      "\u001b[1;31mElementClickInterceptedException\u001b[0m: Message: element click intercepted: Element <button class=\"btn btn--block\" style=\"margin:12px 0 16px;\" data-v-a35d0e5e=\"\">...</button> is not clickable at point (683, 112). Other element would receive the click: <div class=\"appLoading\">...</div>\n  (Session info: MicrosoftEdge=100.0.1185.39)\nStacktrace:\nBacktrace:\n\tMicrosoft::Applications::Events::EventProperties::unpack [0x00007FF6A54792E2+24834]\n\tMicrosoft::Applications::Events::time_ticks_t::time_ticks_t [0x00007FF6A53B6742+523426]\n\tOrdinal0 [0x00007FF6A4EB13B5+660405]\n\tOrdinal0 [0x00007FF6A4EF4C90+937104]\n\tOrdinal0 [0x00007FF6A4EF2327+926503]\n\tOrdinal0 [0x00007FF6A4EEF7D3+915411]\n\tOrdinal0 [0x00007FF6A4EEE3FE+910334]\n\tOrdinal0 [0x00007FF6A4EE0E51+855633]\n\tOrdinal0 [0x00007FF6A4F07D9A+1015194]\n\tOrdinal0 [0x00007FF6A4EE05E4+853476]\n\tOrdinal0 [0x00007FF6A4F080B0+1015984]\n\tOrdinal0 [0x00007FF6A4F1C467+1098855]\n\tOrdinal0 [0x00007FF6A4F07BB3+1014707]\n\tOrdinal0 [0x00007FF6A4EDEAE0+846560]\n\tOrdinal0 [0x00007FF6A4EDFED8+851672]\n\tMicrosoft::Applications::Events::EventProperty::to_string [0x00007FF6A507A6D8+846488]\n\tMicrosoft::Applications::Events::EventProperty::EventProperty [0x00007FF6A516AC81+36529]\n\tMicrosoft::Applications::Events::EventProperty::EventProperty [0x00007FF6A516DFA2+49618]\n\tMicrosoft::Applications::Events::EventProperty::to_string [0x00007FF6A4FB3566+31014]\n\tMicrosoft::Applications::Events::time_ticks_t::time_ticks_t [0x00007FF6A53BD6C1+551969]\n\tMicrosoft::Applications::Events::time_ticks_t::time_ticks_t [0x00007FF6A53C21D4+571188]\n\tMicrosoft::Applications::Events::time_ticks_t::time_ticks_t [0x00007FF6A53C232D+571533]\n\tMicrosoft::Applications::Events::time_ticks_t::time_ticks_t [0x00007FF6A53CB45E+608702]\n\tBaseThreadInitThunk [0x00007FFDEDCF7034+20]\n\tRtlUserThreadStart [0x00007FFDEE4A2651+33]\n"
     ]
    }
   ],
   "source": [
    "driver.get(home_page+'/order')\n",
    "add = ['Rumah Testing','Bapak Testing','08123123123','Jl mangga kelurahan ABCD']\n",
    "stock_selected = abs(int(stock*0.5+1))\n",
    "if stock_selected > 10:\n",
    "    stock_selected = 10\n",
    "Select(driver.find_element(by=By.XPATH, value='//*[@id=\"__layout\"]/div/div[2]/div[2]/div[2]/div/div/div[1]/select')).select_by_index(stock_selected-1)\n",
    "run_click('//*[@id=\"__layout\"]/div/div[2]/button[1]') # click alamat\n",
    "sleep(2)\n",
    "for i in range(1,5):\n",
    "    driver.find_element(by=By.XPATH, value=f'//*[@id=\"__layout\"]/div/div[3]/div/div/div[2]/form/label[{i}]/span[2]/input').send_keys(add[i-1])\n",
    "run_click('//*[@id=\"__layout\"]/div/div[3]/div/div/div[2]/form/div/label/a')\n",
    "driver.find_element(by=By.XPATH, value='//*[@id=\"__layout\"]/div/div[3]/div/div/div[2]/form/div/div/div/div[2]/form/input').send_keys('Dungus Cariang')\n",
    "run_click('//*[@id=\"__layout\"]/div/div[3]/div/div/div[2]/form/div/div/div/div[2]/div/a/span')\n",
    "run_click('//*[@id=\"__layout\"]/div/div[3]/div/div/div[3]/div/button')\n",
    "sleep(1)\n",
    "alert_obj = driver.switch_to.alert\n",
    "sleep(1)\n",
    "alert_obj.accept()\n",
    "sleep(3)\n"
   ]
  },
  {
   "cell_type": "code",
   "execution_count": null,
   "metadata": {},
   "outputs": [
    {
     "ename": "NoSuchElementException",
     "evalue": "Message: no such element: Unable to locate element: {\"method\":\"xpath\",\"selector\":\"//*[@id=\"application\"]/div[4]/div/div/div/div[1]/div[1]/div[2]/span[2]\"}\n  (Session info: MicrosoftEdge=100.0.1185.39)\nStacktrace:\nBacktrace:\n\tMicrosoft::Applications::Events::EventProperties::unpack [0x00007FF6A54792E2+24834]\n\tMicrosoft::Applications::Events::time_ticks_t::time_ticks_t [0x00007FF6A53B6742+523426]\n\tOrdinal0 [0x00007FF6A4EB13B5+660405]\n\tOrdinal0 [0x00007FF6A4EEC873+903283]\n\tOrdinal0 [0x00007FF6A4EECB49+904009]\n\tOrdinal0 [0x00007FF6A4F1EE77+1109623]\n\tOrdinal0 [0x00007FF6A4F07DDF+1015263]\n\tOrdinal0 [0x00007FF6A4F1C467+1098855]\n\tOrdinal0 [0x00007FF6A4F07BB3+1014707]\n\tOrdinal0 [0x00007FF6A4EDEAE0+846560]\n\tOrdinal0 [0x00007FF6A4EDFED8+851672]\n\tMicrosoft::Applications::Events::EventProperty::to_string [0x00007FF6A507A6D8+846488]\n\tMicrosoft::Applications::Events::EventProperty::EventProperty [0x00007FF6A516AC81+36529]\n\tMicrosoft::Applications::Events::EventProperty::EventProperty [0x00007FF6A516DFA2+49618]\n\tMicrosoft::Applications::Events::EventProperty::to_string [0x00007FF6A4FB3566+31014]\n\tMicrosoft::Applications::Events::time_ticks_t::time_ticks_t [0x00007FF6A53BD6C1+551969]\n\tMicrosoft::Applications::Events::time_ticks_t::time_ticks_t [0x00007FF6A53C21D4+571188]\n\tMicrosoft::Applications::Events::time_ticks_t::time_ticks_t [0x00007FF6A53C232D+571533]\n\tMicrosoft::Applications::Events::time_ticks_t::time_ticks_t [0x00007FF6A53CB45E+608702]\n\tBaseThreadInitThunk [0x00007FFDEDCF7034+20]\n\tRtlUserThreadStart [0x00007FFDEE4A2651+33]\n",
     "output_type": "error",
     "traceback": [
      "\u001b[1;31m---------------------------------------------------------------------------\u001b[0m",
      "\u001b[1;31mNoSuchElementException\u001b[0m                    Traceback (most recent call last)",
      "\u001b[1;32m~\\AppData\\Local\\Temp/ipykernel_11112/3346806915.py\u001b[0m in \u001b[0;36m<module>\u001b[1;34m\u001b[0m\n\u001b[0;32m      5\u001b[0m \u001b[0mrun_click\u001b[0m\u001b[1;33m(\u001b[0m\u001b[1;34m'//*[@id=\"__layout\"]/div/div[6]/div/div[3]/button[1]'\u001b[0m\u001b[1;33m)\u001b[0m\u001b[1;33m\u001b[0m\u001b[1;33m\u001b[0m\u001b[0m\n\u001b[0;32m      6\u001b[0m \u001b[0msleep\u001b[0m\u001b[1;33m(\u001b[0m\u001b[1;36m2\u001b[0m\u001b[1;33m)\u001b[0m\u001b[1;33m\u001b[0m\u001b[1;33m\u001b[0m\u001b[0m\n\u001b[1;32m----> 7\u001b[1;33m \u001b[0mfinal_price\u001b[0m \u001b[1;33m=\u001b[0m \u001b[0mint\u001b[0m\u001b[1;33m(\u001b[0m\u001b[0mdriver\u001b[0m\u001b[1;33m.\u001b[0m\u001b[0mfind_element\u001b[0m\u001b[1;33m(\u001b[0m\u001b[0mby\u001b[0m\u001b[1;33m=\u001b[0m\u001b[0mBy\u001b[0m\u001b[1;33m.\u001b[0m\u001b[0mXPATH\u001b[0m\u001b[1;33m,\u001b[0m \u001b[0mvalue\u001b[0m\u001b[1;33m=\u001b[0m\u001b[1;34m'//*[@id=\"application\"]/div[4]/div/div/div/div[1]/div[1]/div[2]/span[2]'\u001b[0m\u001b[1;33m)\u001b[0m\u001b[1;33m.\u001b[0m\u001b[0mtext\u001b[0m\u001b[1;33m.\u001b[0m\u001b[0mreplace\u001b[0m\u001b[1;33m(\u001b[0m\u001b[1;34m','\u001b[0m\u001b[1;33m,\u001b[0m\u001b[1;34m''\u001b[0m\u001b[1;33m)\u001b[0m\u001b[1;33m.\u001b[0m\u001b[0mreplace\u001b[0m\u001b[1;33m(\u001b[0m\u001b[1;34m'Rp'\u001b[0m\u001b[1;33m,\u001b[0m\u001b[1;34m''\u001b[0m\u001b[1;33m)\u001b[0m\u001b[1;33m)\u001b[0m\u001b[1;33m\u001b[0m\u001b[1;33m\u001b[0m\u001b[0m\n\u001b[0m\u001b[0;32m      8\u001b[0m \u001b[1;33m[\u001b[0m\u001b[0mstock\u001b[0m\u001b[1;33m,\u001b[0m\u001b[0mpr\u001b[0m\u001b[1;33m,\u001b[0m\u001b[0mstock_selected\u001b[0m\u001b[1;33m,\u001b[0m\u001b[0mongkir_price\u001b[0m\u001b[1;33m,\u001b[0m\u001b[0mfinal_price\u001b[0m\u001b[1;33m,\u001b[0m\u001b[0mfinal_price\u001b[0m\u001b[1;33m==\u001b[0m\u001b[0mstock_selected\u001b[0m\u001b[1;33m*\u001b[0m\u001b[0mpr\u001b[0m\u001b[1;33m+\u001b[0m\u001b[0mongkir_price\u001b[0m\u001b[1;33m]\u001b[0m\u001b[1;33m\u001b[0m\u001b[1;33m\u001b[0m\u001b[0m\n",
      "\u001b[1;32m~\\AppData\\Local\\Programs\\Python\\Python38\\lib\\site-packages\\selenium\\webdriver\\remote\\webdriver.py\u001b[0m in \u001b[0;36mfind_element\u001b[1;34m(self, by, value)\u001b[0m\n\u001b[0;32m   1246\u001b[0m             \u001b[0mvalue\u001b[0m \u001b[1;33m=\u001b[0m \u001b[1;34m'[name=\"%s\"]'\u001b[0m \u001b[1;33m%\u001b[0m \u001b[0mvalue\u001b[0m\u001b[1;33m\u001b[0m\u001b[1;33m\u001b[0m\u001b[0m\n\u001b[0;32m   1247\u001b[0m \u001b[1;33m\u001b[0m\u001b[0m\n\u001b[1;32m-> 1248\u001b[1;33m         return self.execute(Command.FIND_ELEMENT, {\n\u001b[0m\u001b[0;32m   1249\u001b[0m             \u001b[1;34m'using'\u001b[0m\u001b[1;33m:\u001b[0m \u001b[0mby\u001b[0m\u001b[1;33m,\u001b[0m\u001b[1;33m\u001b[0m\u001b[1;33m\u001b[0m\u001b[0m\n\u001b[0;32m   1250\u001b[0m             'value': value})['value']\n",
      "\u001b[1;32m~\\AppData\\Local\\Programs\\Python\\Python38\\lib\\site-packages\\selenium\\webdriver\\remote\\webdriver.py\u001b[0m in \u001b[0;36mexecute\u001b[1;34m(self, driver_command, params)\u001b[0m\n\u001b[0;32m    423\u001b[0m         \u001b[0mresponse\u001b[0m \u001b[1;33m=\u001b[0m \u001b[0mself\u001b[0m\u001b[1;33m.\u001b[0m\u001b[0mcommand_executor\u001b[0m\u001b[1;33m.\u001b[0m\u001b[0mexecute\u001b[0m\u001b[1;33m(\u001b[0m\u001b[0mdriver_command\u001b[0m\u001b[1;33m,\u001b[0m \u001b[0mparams\u001b[0m\u001b[1;33m)\u001b[0m\u001b[1;33m\u001b[0m\u001b[1;33m\u001b[0m\u001b[0m\n\u001b[0;32m    424\u001b[0m         \u001b[1;32mif\u001b[0m \u001b[0mresponse\u001b[0m\u001b[1;33m:\u001b[0m\u001b[1;33m\u001b[0m\u001b[1;33m\u001b[0m\u001b[0m\n\u001b[1;32m--> 425\u001b[1;33m             \u001b[0mself\u001b[0m\u001b[1;33m.\u001b[0m\u001b[0merror_handler\u001b[0m\u001b[1;33m.\u001b[0m\u001b[0mcheck_response\u001b[0m\u001b[1;33m(\u001b[0m\u001b[0mresponse\u001b[0m\u001b[1;33m)\u001b[0m\u001b[1;33m\u001b[0m\u001b[1;33m\u001b[0m\u001b[0m\n\u001b[0m\u001b[0;32m    426\u001b[0m             response['value'] = self._unwrap_value(\n\u001b[0;32m    427\u001b[0m                 response.get('value', None))\n",
      "\u001b[1;32m~\\AppData\\Local\\Programs\\Python\\Python38\\lib\\site-packages\\selenium\\webdriver\\remote\\errorhandler.py\u001b[0m in \u001b[0;36mcheck_response\u001b[1;34m(self, response)\u001b[0m\n\u001b[0;32m    245\u001b[0m                 \u001b[0malert_text\u001b[0m \u001b[1;33m=\u001b[0m \u001b[0mvalue\u001b[0m\u001b[1;33m[\u001b[0m\u001b[1;34m'alert'\u001b[0m\u001b[1;33m]\u001b[0m\u001b[1;33m.\u001b[0m\u001b[0mget\u001b[0m\u001b[1;33m(\u001b[0m\u001b[1;34m'text'\u001b[0m\u001b[1;33m)\u001b[0m\u001b[1;33m\u001b[0m\u001b[1;33m\u001b[0m\u001b[0m\n\u001b[0;32m    246\u001b[0m             \u001b[1;32mraise\u001b[0m \u001b[0mexception_class\u001b[0m\u001b[1;33m(\u001b[0m\u001b[0mmessage\u001b[0m\u001b[1;33m,\u001b[0m \u001b[0mscreen\u001b[0m\u001b[1;33m,\u001b[0m \u001b[0mstacktrace\u001b[0m\u001b[1;33m,\u001b[0m \u001b[0malert_text\u001b[0m\u001b[1;33m)\u001b[0m  \u001b[1;31m# type: ignore[call-arg]  # mypy is not smart enough here\u001b[0m\u001b[1;33m\u001b[0m\u001b[1;33m\u001b[0m\u001b[0m\n\u001b[1;32m--> 247\u001b[1;33m         \u001b[1;32mraise\u001b[0m \u001b[0mexception_class\u001b[0m\u001b[1;33m(\u001b[0m\u001b[0mmessage\u001b[0m\u001b[1;33m,\u001b[0m \u001b[0mscreen\u001b[0m\u001b[1;33m,\u001b[0m \u001b[0mstacktrace\u001b[0m\u001b[1;33m)\u001b[0m\u001b[1;33m\u001b[0m\u001b[1;33m\u001b[0m\u001b[0m\n\u001b[0m\u001b[0;32m    248\u001b[0m \u001b[1;33m\u001b[0m\u001b[0m\n\u001b[0;32m    249\u001b[0m     \u001b[1;32mdef\u001b[0m \u001b[0m_value_or_default\u001b[0m\u001b[1;33m(\u001b[0m\u001b[0mself\u001b[0m\u001b[1;33m,\u001b[0m \u001b[0mobj\u001b[0m\u001b[1;33m:\u001b[0m \u001b[0mMapping\u001b[0m\u001b[1;33m[\u001b[0m\u001b[0m_KT\u001b[0m\u001b[1;33m,\u001b[0m \u001b[0m_VT\u001b[0m\u001b[1;33m]\u001b[0m\u001b[1;33m,\u001b[0m \u001b[0mkey\u001b[0m\u001b[1;33m:\u001b[0m \u001b[0m_KT\u001b[0m\u001b[1;33m,\u001b[0m \u001b[0mdefault\u001b[0m\u001b[1;33m:\u001b[0m \u001b[0m_VT\u001b[0m\u001b[1;33m)\u001b[0m \u001b[1;33m->\u001b[0m \u001b[0m_VT\u001b[0m\u001b[1;33m:\u001b[0m\u001b[1;33m\u001b[0m\u001b[1;33m\u001b[0m\u001b[0m\n",
      "\u001b[1;31mNoSuchElementException\u001b[0m: Message: no such element: Unable to locate element: {\"method\":\"xpath\",\"selector\":\"//*[@id=\"application\"]/div[4]/div/div/div/div[1]/div[1]/div[2]/span[2]\"}\n  (Session info: MicrosoftEdge=100.0.1185.39)\nStacktrace:\nBacktrace:\n\tMicrosoft::Applications::Events::EventProperties::unpack [0x00007FF6A54792E2+24834]\n\tMicrosoft::Applications::Events::time_ticks_t::time_ticks_t [0x00007FF6A53B6742+523426]\n\tOrdinal0 [0x00007FF6A4EB13B5+660405]\n\tOrdinal0 [0x00007FF6A4EEC873+903283]\n\tOrdinal0 [0x00007FF6A4EECB49+904009]\n\tOrdinal0 [0x00007FF6A4F1EE77+1109623]\n\tOrdinal0 [0x00007FF6A4F07DDF+1015263]\n\tOrdinal0 [0x00007FF6A4F1C467+1098855]\n\tOrdinal0 [0x00007FF6A4F07BB3+1014707]\n\tOrdinal0 [0x00007FF6A4EDEAE0+846560]\n\tOrdinal0 [0x00007FF6A4EDFED8+851672]\n\tMicrosoft::Applications::Events::EventProperty::to_string [0x00007FF6A507A6D8+846488]\n\tMicrosoft::Applications::Events::EventProperty::EventProperty [0x00007FF6A516AC81+36529]\n\tMicrosoft::Applications::Events::EventProperty::EventProperty [0x00007FF6A516DFA2+49618]\n\tMicrosoft::Applications::Events::EventProperty::to_string [0x00007FF6A4FB3566+31014]\n\tMicrosoft::Applications::Events::time_ticks_t::time_ticks_t [0x00007FF6A53BD6C1+551969]\n\tMicrosoft::Applications::Events::time_ticks_t::time_ticks_t [0x00007FF6A53C21D4+571188]\n\tMicrosoft::Applications::Events::time_ticks_t::time_ticks_t [0x00007FF6A53C232D+571533]\n\tMicrosoft::Applications::Events::time_ticks_t::time_ticks_t [0x00007FF6A53CB45E+608702]\n\tBaseThreadInitThunk [0x00007FFDEDCF7034+20]\n\tRtlUserThreadStart [0x00007FFDEE4A2651+33]\n"
     ]
    }
   ],
   "source": [
    "ongkir_price = int(driver.find_element(by=By.XPATH, value='//*[@id=\"__layout\"]/div/div[2]/div[3]/div[5]/div').text.replace('.','').replace('Rp',''))\n",
    "spam_end(2)\n",
    "run_click('//*[@id=\"__layout\"]/div/div[2]/button')\n",
    "spam_end(2)\n",
    "run_click('//*[@id=\"__layout\"]/div/div[6]/div/div[3]/button[1]')\n",
    "sleep(2)\n",
    "final_price = int(driver.find_element(by=By.XPATH, value='//*[@id=\"application\"]/div[4]/div/div/div/div[1]/div[1]/div[2]/span[2]').text.replace(',','').replace('Rp',''))\n",
    "[stock,pr,stock_selected,ongkir_price,final_price,final_price==stock_selected*pr+ongkir_price]"
   ]
  },
  {
   "cell_type": "code",
   "execution_count": null,
   "metadata": {},
   "outputs": [],
   "source": [
    "\n"
   ]
  },
  {
   "cell_type": "code",
   "execution_count": 36,
   "metadata": {},
   "outputs": [
    {
     "data": {
      "text/plain": [
       "['InvalidSelectorException',\n",
       " 'NoAlertPresentException',\n",
       " 'NoSuchElementException',\n",
       " 'NoSuchFrameException',\n",
       " 'StaleElementReferenceException',\n",
       " 'WebDriverException',\n",
       " 'WebElement',\n",
       " '__builtins__',\n",
       " '__cached__',\n",
       " '__doc__',\n",
       " '__file__',\n",
       " '__loader__',\n",
       " '__name__',\n",
       " '__package__',\n",
       " '__spec__',\n",
       " '_element_if_visible',\n",
       " 'alert_is_present',\n",
       " 'all_of',\n",
       " 'any_of',\n",
       " 'element_attribute_to_include',\n",
       " 'element_located_selection_state_to_be',\n",
       " 'element_located_to_be_selected',\n",
       " 'element_selection_state_to_be',\n",
       " 'element_to_be_clickable',\n",
       " 'element_to_be_selected',\n",
       " 'frame_to_be_available_and_switch_to_it',\n",
       " 'invisibility_of_element',\n",
       " 'invisibility_of_element_located',\n",
       " 'new_window_is_opened',\n",
       " 'none_of',\n",
       " 'number_of_windows_to_be',\n",
       " 'presence_of_all_elements_located',\n",
       " 'presence_of_element_located',\n",
       " 're',\n",
       " 'staleness_of',\n",
       " 'text_to_be_present_in_element',\n",
       " 'text_to_be_present_in_element_attribute',\n",
       " 'text_to_be_present_in_element_value',\n",
       " 'title_contains',\n",
       " 'title_is',\n",
       " 'url_changes',\n",
       " 'url_contains',\n",
       " 'url_matches',\n",
       " 'url_to_be',\n",
       " 'visibility_of',\n",
       " 'visibility_of_all_elements_located',\n",
       " 'visibility_of_any_elements_located',\n",
       " 'visibility_of_element_located']"
      ]
     },
     "execution_count": 36,
     "metadata": {},
     "output_type": "execute_result"
    }
   ],
   "source": [
    "dir(EC)"
   ]
  },
  {
   "cell_type": "code",
   "execution_count": 35,
   "metadata": {},
   "outputs": [],
   "source": []
  }
 ],
 "metadata": {
  "interpreter": {
   "hash": "ed8d44d7cc996a12710889294de7e71688d7b0f8ff09561bdf2cba427af65612"
  },
  "kernelspec": {
   "display_name": "Python 3.8.10 64-bit",
   "language": "python",
   "name": "python3"
  },
  "language_info": {
   "codemirror_mode": {
    "name": "ipython",
    "version": 3
   },
   "file_extension": ".py",
   "mimetype": "text/x-python",
   "name": "python",
   "nbconvert_exporter": "python",
   "pygments_lexer": "ipython3",
   "version": "3.8.10"
  },
  "orig_nbformat": 4
 },
 "nbformat": 4,
 "nbformat_minor": 2
}
